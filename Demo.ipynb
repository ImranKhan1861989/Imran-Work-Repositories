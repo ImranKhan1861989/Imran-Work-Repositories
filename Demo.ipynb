{
 "cells": [
  {
   "cell_type": "code",
   "execution_count": null,
   "id": "bc879234",
   "metadata": {},
   "outputs": [],
   "source": [
    "sprint(\"Hello World\")"
   ]
  },
  {
   "cell_type": "code",
   "execution_count": null,
   "id": "6cf803ee",
   "metadata": {},
   "outputs": [],
   "source": [
    "print(20)"
   ]
  },
  {
   "cell_type": "code",
   "execution_count": null,
   "id": "f517277a",
   "metadata": {},
   "outputs": [],
   "source": [
    "bool(abs)"
   ]
  },
  {
   "cell_type": "code",
   "execution_count": null,
   "id": "f0bb0675",
   "metadata": {},
   "outputs": [],
   "source": [
    "Str = \"Imran\"\n",
    "bool(Str)"
   ]
  },
  {
   "cell_type": "code",
   "execution_count": null,
   "id": "6b754be0",
   "metadata": {},
   "outputs": [],
   "source": [
    "lst_example = []\n",
    "type (lst_example)"
   ]
  },
  {
   "cell_type": "code",
   "execution_count": null,
   "id": "6c37574a",
   "metadata": {},
   "outputs": [],
   "source": [
    "Imran = 123\n",
    "lst_example =[]\n",
    "lst_example.append(imran)\n",
    "print(lst_example)"
   ]
  },
  {
   "cell_type": "code",
   "execution_count": null,
   "id": "2efe1854",
   "metadata": {},
   "outputs": [],
   "source": [
    "a = 1,2,3,4,5,6\n",
    "lst_example.append('a')"
   ]
  },
  {
   "cell_type": "code",
   "execution_count": null,
   "id": "c483d870",
   "metadata": {},
   "outputs": [],
   "source": [
    "a = 1,2,3,4,5,6\n",
    "lst_example.insert(Imran,a)"
   ]
  },
  {
   "cell_type": "code",
   "execution_count": null,
   "id": "2f44826a",
   "metadata": {},
   "outputs": [],
   "source": [
    "a = 1,2,3,4,5,6\n",
    "lst_example.insert(Imran,a)\n",
    "print(lst_example)"
   ]
  },
  {
   "cell_type": "code",
   "execution_count": null,
   "id": "c5566a8d",
   "metadata": {},
   "outputs": [],
   "source": [
    "a = [12.50, 60, 70]\n",
    "b = 4,\"Imran\"\n",
    "a.insert(3,b)\n",
    "print(a)"
   ]
  },
  {
   "cell_type": "code",
   "execution_count": null,
   "id": "d86c460c",
   "metadata": {},
   "outputs": [],
   "source": [
    "list=[1,2,3,4,5,6,7,8,9]\n",
    "b = \"Imran\""
   ]
  },
  {
   "cell_type": "code",
   "execution_count": null,
   "id": "8a7cfe09",
   "metadata": {},
   "outputs": [],
   "source": [
    "list.append(b)"
   ]
  },
  {
   "cell_type": "code",
   "execution_count": null,
   "id": "62fd89e1",
   "metadata": {},
   "outputs": [],
   "source": [
    "tuple()"
   ]
  },
  {
   "cell_type": "code",
   "execution_count": null,
   "id": "875ddb23",
   "metadata": {},
   "outputs": [],
   "source": [
    "str=\"imran\""
   ]
  },
  {
   "cell_type": "code",
   "execution_count": null,
   "id": "25feaa20",
   "metadata": {},
   "outputs": [],
   "source": [
    "print(str.islower())"
   ]
  },
  {
   "cell_type": "code",
   "execution_count": null,
   "id": "965a5178",
   "metadata": {},
   "outputs": [],
   "source": [
    "lst=[100, 200, 300, 400, 500]\n",
    "type(lst)"
   ]
  },
  {
   "cell_type": "code",
   "execution_count": null,
   "id": "b5d940b9",
   "metadata": {},
   "outputs": [],
   "source": [
    "# Append elements to the list\n",
    "lst.append(\"Imran\")\n",
    "lst"
   ]
  },
  {
   "cell_type": "code",
   "execution_count": null,
   "id": "6e4b4f71",
   "metadata": {},
   "outputs": [],
   "source": [
    "#index(0, 1, 100)\n",
    "lst[1]"
   ]
  },
  {
   "cell_type": "code",
   "execution_count": null,
   "id": "bf2183f2",
   "metadata": {},
   "outputs": [],
   "source": [
    "lst.insert(1,200)"
   ]
  },
  {
   "cell_type": "code",
   "execution_count": null,
   "id": "07e8aa5f",
   "metadata": {},
   "outputs": [],
   "source": [
    "lst"
   ]
  },
  {
   "cell_type": "code",
   "execution_count": null,
   "id": "e7d2c3fb",
   "metadata": {},
   "outputs": [],
   "source": [
    "#extend the list\n",
    "lst.extend([200,800])"
   ]
  },
  {
   "cell_type": "code",
   "execution_count": null,
   "id": "02fbc5a1",
   "metadata": {},
   "outputs": [],
   "source": [
    "lst"
   ]
  },
  {
   "cell_type": "code",
   "execution_count": null,
   "id": "d75e5768",
   "metadata": {},
   "outputs": [],
   "source": [
    "lst.pop(5)"
   ]
  },
  {
   "cell_type": "code",
   "execution_count": null,
   "id": "ce83b76b",
   "metadata": {},
   "outputs": [],
   "source": [
    "import numpy as np"
   ]
  },
  {
   "cell_type": "code",
   "execution_count": null,
   "id": "4207a513",
   "metadata": {},
   "outputs": [],
   "source": [
    "#import numpy "
   ]
  },
  {
   "cell_type": "code",
   "execution_count": null,
   "id": "f0d85220",
   "metadata": {},
   "outputs": [],
   "source": [
    "pip install numpy"
   ]
  },
  {
   "cell_type": "code",
   "execution_count": null,
   "id": "7e5f36da",
   "metadata": {},
   "outputs": [],
   "source": [
    "my_lst =[1,2,3,4,5,6,7,8,9,10,11,12,13]"
   ]
  },
  {
   "cell_type": "code",
   "execution_count": null,
   "id": "e02337c8",
   "metadata": {},
   "outputs": [],
   "source": [
    "import numpy as np\n",
    "arr=np.array(my_lst)"
   ]
  },
  {
   "cell_type": "code",
   "execution_count": null,
   "id": "b209df73",
   "metadata": {},
   "outputs": [],
   "source": [
    "type(arr)"
   ]
  },
  {
   "cell_type": "code",
   "execution_count": null,
   "id": "3e4bc23f",
   "metadata": {},
   "outputs": [],
   "source": [
    "arr.shape"
   ]
  },
  {
   "cell_type": "code",
   "execution_count": null,
   "id": "46b8b01b",
   "metadata": {},
   "outputs": [],
   "source": [
    "int(ten)"
   ]
  },
  {
   "cell_type": "code",
   "execution_count": null,
   "id": "02733210",
   "metadata": {},
   "outputs": [],
   "source": [
    "10==20"
   ]
  },
  {
   "cell_type": "markdown",
   "id": "bbc0a1c5",
   "metadata": {},
   "source": [
    "10!=20"
   ]
  },
  {
   "cell_type": "code",
   "execution_count": null,
   "id": "a92e49d1",
   "metadata": {},
   "outputs": [],
   "source": [
    "10!=20"
   ]
  },
  {
   "cell_type": "code",
   "execution_count": null,
   "id": "c0370d2a",
   "metadata": {},
   "outputs": [],
   "source": [
    "x=10\n",
    "x+=10"
   ]
  },
  {
   "cell_type": "code",
   "execution_count": null,
   "id": "e01d263b",
   "metadata": {},
   "outputs": [],
   "source": [
    "x="
   ]
  },
  {
   "cell_type": "code",
   "execution_count": null,
   "id": "966a0868",
   "metadata": {},
   "outputs": [],
   "source": [
    "#set data type\n",
    "\n",
    "s={1,2,3,4,5,'imran'}"
   ]
  },
  {
   "cell_type": "code",
   "execution_count": null,
   "id": "7da17130",
   "metadata": {},
   "outputs": [],
   "source": [
    "s[2]"
   ]
  },
  {
   "cell_type": "code",
   "execution_count": null,
   "id": "eeae35f2",
   "metadata": {},
   "outputs": [],
   "source": [
    "s.remove('imran')"
   ]
  },
  {
   "cell_type": "code",
   "execution_count": null,
   "id": "523510a5",
   "metadata": {},
   "outputs": [],
   "source": [
    "#frozenset datatype\n",
    "fs=s"
   ]
  },
  {
   "cell_type": "code",
   "execution_count": null,
   "id": "a5bc2e35",
   "metadata": {},
   "outputs": [],
   "source": [
    "fs"
   ]
  },
  {
   "cell_type": "code",
   "execution_count": null,
   "id": "4ea4fb98",
   "metadata": {},
   "outputs": [],
   "source": [
    "#dict datatype\n",
    "\n",
    "d=s"
   ]
  },
  {
   "cell_type": "code",
   "execution_count": null,
   "id": "4420d90a",
   "metadata": {},
   "outputs": [],
   "source": [
    "print(d)"
   ]
  },
  {
   "cell_type": "code",
   "execution_count": null,
   "id": "2a3521f4",
   "metadata": {},
   "outputs": [],
   "source": [
    "d={10:20, 20:30, 20:32}"
   ]
  },
  {
   "cell_type": "code",
   "execution_count": null,
   "id": "7eea43df",
   "metadata": {},
   "outputs": [],
   "source": [
    "type(d)"
   ]
  },
  {
   "cell_type": "code",
   "execution_count": null,
   "id": "0cdd9563",
   "metadata": {},
   "outputs": [],
   "source": [
    "d[10]='Imran'"
   ]
  },
  {
   "cell_type": "code",
   "execution_count": null,
   "id": "9ac4ce4d",
   "metadata": {},
   "outputs": [],
   "source": [
    "print(d)"
   ]
  },
  {
   "cell_type": "code",
   "execution_count": null,
   "id": "3d1154fd",
   "metadata": {},
   "outputs": [],
   "source": [
    "# dictionary has alway key and values\n",
    "\n",
    "#if, if-elid, il-elif-else\n",
    "\n",
    "\n",
    "# flow control\n",
    "\n",
    "#conditional statements\n",
    "\n",
    "#if\n",
    "#if-elif\n",
    "#il-elif-else\n",
    "\n",
    "name=(\"Imran, goof morning\")\n",
    "if name =='Imran:'\n",
    "else:\n",
    "    print(Hello Guest)"
   ]
  },
  {
   "cell_type": "code",
   "execution_count": null,
   "id": "fe9db8f0",
   "metadata": {},
   "outputs": [],
   "source": [
    "Entername:Imran"
   ]
  },
  {
   "cell_type": "code",
   "execution_count": null,
   "id": "4ff699a7",
   "metadata": {},
   "outputs": [],
   "source": [
    "import pandas as pd"
   ]
  },
  {
   "cell_type": "code",
   "execution_count": null,
   "id": "685ecc05",
   "metadata": {},
   "outputs": [],
   "source": [
    "df = pd.read_csv(\"C:\\Users\\imrkm\\Downloads\\parks.csv\")"
   ]
  },
  {
   "cell_type": "code",
   "execution_count": null,
   "id": "d0843f44",
   "metadata": {},
   "outputs": [],
   "source": [
    "df = pd.read_csv(\"C:/Users/imrkm/Downloads/parks.csv\")"
   ]
  },
  {
   "cell_type": "code",
   "execution_count": null,
   "id": "0e59a968",
   "metadata": {},
   "outputs": [],
   "source": [
    "df.head(5)"
   ]
  },
  {
   "cell_type": "code",
   "execution_count": null,
   "id": "3119748e",
   "metadata": {},
   "outputs": [],
   "source": [
    "df.head(3)"
   ]
  },
  {
   "cell_type": "code",
   "execution_count": null,
   "id": "cbfc1acc",
   "metadata": {},
   "outputs": [],
   "source": []
  },
  {
   "cell_type": "code",
   "execution_count": null,
   "id": "e72c818e",
   "metadata": {},
   "outputs": [],
   "source": [
    "#Indexing: Single Rows¶\n",
    "The simplest way to access a row is to pass the row number to the .iloc method. Note that first row is zero, just like list indexes.\n"
   ]
  },
  {
   "cell_type": "code",
   "execution_count": null,
   "id": "fd9c50bc",
   "metadata": {},
   "outputs": [],
   "source": [
    "df.State.iloc[2]"
   ]
  },
  {
   "cell_type": "code",
   "execution_count": null,
   "id": "6159e993",
   "metadata": {},
   "outputs": [],
   "source": [
    "%matplotlib inline"
   ]
  },
  {
   "cell_type": "markdown",
   "id": "2688d1eb",
   "metadata": {},
   "source": [
    "import matplotlib.pyplot as plt"
   ]
  },
  {
   "cell_type": "code",
   "execution_count": null,
   "id": "66c961ce",
   "metadata": {},
   "outputs": [],
   "source": [
    "import matplotlib.pyplot as plt"
   ]
  },
  {
   "cell_type": "code",
   "execution_count": null,
   "id": "99b52531",
   "metadata": {},
   "outputs": [],
   "source": [
    "# Create a simple plot\n",
    "\n",
    "\n",
    "x = [1,2,3,4,5]\n",
    "y = [1,2,3]"
   ]
  },
  {
   "cell_type": "code",
   "execution_count": null,
   "id": "c1106a60",
   "metadata": {},
   "outputs": [],
   "source": [
    "plt.plot(x, y)\n",
    "plt.xlabel(\"X-axis\")\n",
    "plt.ylabel(\"Y-axis\")\n",
    "plt.title(\"Sample Plot\")\n",
    "plt.show()"
   ]
  },
  {
   "cell_type": "code",
   "execution_count": null,
   "id": "794734c7",
   "metadata": {},
   "outputs": [],
   "source": [
    "import numpy as np"
   ]
  },
  {
   "cell_type": "code",
   "execution_count": null,
   "id": "a1cf230f",
   "metadata": {},
   "outputs": [],
   "source": [
    "p=np.arange(90)"
   ]
  },
  {
   "cell_type": "code",
   "execution_count": null,
   "id": "c0ac6185",
   "metadata": {},
   "outputs": [],
   "source": [
    "print(p)"
   ]
  },
  {
   "cell_type": "code",
   "execution_count": null,
   "id": "d1954f5e",
   "metadata": {},
   "outputs": [],
   "source": [
    "p=np.arange(45)+5"
   ]
  },
  {
   "cell_type": "code",
   "execution_count": null,
   "id": "29e970b6",
   "metadata": {},
   "outputs": [],
   "source": [
    "p.ndim"
   ]
  },
  {
   "cell_type": "code",
   "execution_count": null,
   "id": "8134ea81",
   "metadata": {},
   "outputs": [],
   "source": [
    "pr=p.reshape((3,3,5))"
   ]
  },
  {
   "cell_type": "code",
   "execution_count": null,
   "id": "86a32f25",
   "metadata": {},
   "outputs": [],
   "source": [
    "pr"
   ]
  },
  {
   "cell_type": "code",
   "execution_count": null,
   "id": "4bc21483",
   "metadata": {},
   "outputs": [],
   "source": [
    "pr.shape"
   ]
  },
  {
   "cell_type": "code",
   "execution_count": null,
   "id": "df02b63d",
   "metadata": {},
   "outputs": [],
   "source": [
    "pr.ndim"
   ]
  },
  {
   "cell_type": "code",
   "execution_count": null,
   "id": "bf6448fa",
   "metadata": {},
   "outputs": [],
   "source": [
    "p=np.arane(90).reshape((3,2,3,5))"
   ]
  },
  {
   "cell_type": "code",
   "execution_count": null,
   "id": "bd7cf23c",
   "metadata": {},
   "outputs": [],
   "source": [
    "import numpy as np\n",
    "\n",
    "p = np.arange(180).reshape((9,10,2))"
   ]
  },
  {
   "cell_type": "code",
   "execution_count": null,
   "id": "b315ca3b",
   "metadata": {},
   "outputs": [],
   "source": [
    "p"
   ]
  },
  {
   "cell_type": "code",
   "execution_count": null,
   "id": "1361f61f",
   "metadata": {},
   "outputs": [],
   "source": [
    "p.shape"
   ]
  },
  {
   "cell_type": "code",
   "execution_count": null,
   "id": "6f2d34a8",
   "metadata": {},
   "outputs": [],
   "source": [
    "import matplotlib.pyplot as plt"
   ]
  },
  {
   "cell_type": "code",
   "execution_count": null,
   "id": "13d8532a",
   "metadata": {},
   "outputs": [],
   "source": [
    "x=[1, 10]\n",
    "y=[2, 15]"
   ]
  },
  {
   "cell_type": "code",
   "execution_count": null,
   "id": "fcb3d3da",
   "metadata": {},
   "outputs": [],
   "source": [
    "company=['g','am','mf','fb']\n",
    "revenu=[90,136,89,27]"
   ]
  },
  {
   "cell_type": "code",
   "execution_count": null,
   "id": "10f59ace",
   "metadata": {},
   "outputs": [],
   "source": [
    "import numpy as np\n",
    "xpos"
   ]
  },
  {
   "cell_type": "code",
   "execution_count": null,
   "id": "e3043d96",
   "metadata": {},
   "outputs": [],
   "source": [
    "plt.bar(xpos,revenue,label='revenue')"
   ]
  },
  {
   "cell_type": "code",
   "execution_count": null,
   "id": "ec8e1739",
   "metadata": {},
   "outputs": [],
   "source": [
    "# Import libraries\n",
    "from matplotlib import pyplot as plt\n",
    "import numpy as np\n",
    "# Creating dataset\n",
    "\n",
    "# Creating plot\n",
    "fig = plt.figure(figsize=(10, 7))"
   ]
  },
  {
   "cell_type": "code",
   "execution_count": null,
   "id": "2bd43092",
   "metadata": {},
   "outputs": [],
   "source": [
    "fig = plt.figure(figsize=(10, 7))"
   ]
  },
  {
   "cell_type": "code",
   "execution_count": null,
   "id": "62c3b3d7",
   "metadata": {},
   "outputs": [],
   "source": [
    "data = [23, 17, 35, 29, 12, 41], \n",
    "\n",
    "cars = ['AUDI', 'BMW', 'FORD',\n",
    "'TESLA', 'JAGUAR', 'MERCEDES']\n"
   ]
  },
  {
   "cell_type": "code",
   "execution_count": null,
   "id": "36a703f5",
   "metadata": {},
   "outputs": [],
   "source": [
    "plt.pie(data, labels=cars)"
   ]
  },
  {
   "cell_type": "code",
   "execution_count": null,
   "id": "afc08bb9",
   "metadata": {},
   "outputs": [],
   "source": [
    "\n",
    "# Python Programming illustrating \n",
    "# numpy.linspace method \n",
    "  \n",
    "import numpy as geek \n",
    "  \n",
    "# restep set to True \n",
    "print(\"B\\n\", geek.linspace(2.0, 3.0, num=5, retstep=True), \"\\n\") \n",
    "  \n",
    "# To evaluate sin() in long range  \n",
    "x = geek.linspace(0, 14, 100) \n",
    "print(\"A\\n\", geek.sin(x)) "
   ]
  },
  {
   "cell_type": "code",
   "execution_count": 6,
   "id": "93a35049",
   "metadata": {},
   "outputs": [],
   "source": [
    "import pandas as pd"
   ]
  },
  {
   "cell_type": "code",
   "execution_count": 16,
   "id": "cafc8df5",
   "metadata": {},
   "outputs": [],
   "source": [
    "#create a dataframe from list\n",
    "# Example list\n",
    "##Write a solution to create a DataFrame from a 2D list called student_data. This 2D list contains the IDs and ages of some students.\n",
    "\n",
    "##The DataFrame should have two columns, student_id and age, and be in the same order as the original 2D list.\n",
    "\n",
    "##The result format is in the following example.\n",
    "\n",
    " \n",
    "\n",
    "data = [\n",
    "  [1, 15],\n",
    "  [2, 11],\n",
    "  [3, 11],\n",
    "  [4, 20]]"
   ]
  },
  {
   "cell_type": "code",
   "execution_count": 17,
   "id": "c6cf7a72",
   "metadata": {},
   "outputs": [
    {
     "name": "stdout",
     "output_type": "stream",
     "text": [
      "   student_id  age\n",
      "0           1   15\n",
      "1           2   11\n",
      "2           3   11\n",
      "3           4   20\n"
     ]
    }
   ],
   "source": [
    "# Create a DataFrame\n",
    "df = pd.DataFrame(data, columns=[\"student_id\", \"age\"])\n",
    "\n",
    "# Display the DataFrame\n",
    "print(df)"
   ]
  },
  {
   "cell_type": "code",
   "execution_count": 18,
   "id": "cd73ac5d",
   "metadata": {},
   "outputs": [
    {
     "ename": "SyntaxError",
     "evalue": "incomplete input (4046111353.py, line 3)",
     "output_type": "error",
     "traceback": [
      "\u001b[1;36m  Cell \u001b[1;32mIn[18], line 3\u001b[1;36m\u001b[0m\n\u001b[1;33m    def getDataframeSize(players: pd.DataFrame) -> List[int]:\u001b[0m\n\u001b[1;37m                                                             ^\u001b[0m\n\u001b[1;31mSyntaxError\u001b[0m\u001b[1;31m:\u001b[0m incomplete input\n"
     ]
    }
   ],
   "source": [
    "#import pandas as pd\n",
    "\n",
    "def getDataframeSize(players: pd.DataFrame) -> List[int]:"
   ]
  },
  {
   "cell_type": "code",
   "execution_count": 19,
   "id": "da0d8fb5",
   "metadata": {},
   "outputs": [
    {
     "name": "stdout",
     "output_type": "stream",
     "text": [
      "Number of rows: 3, Number of columns: 3\n"
     ]
    }
   ],
   "source": [
    "import pandas as pd\n",
    "from typing import List\n",
    "\n",
    "def getDataframeSize(players: pd.DataFrame) -> List[int]:\n",
    "    \"\"\"\n",
    "    Calculates the size (number of rows and columns) of the input DataFrame.\n",
    "\n",
    "    Args:\n",
    "        players (pd.DataFrame): A pandas DataFrame.\n",
    "\n",
    "    Returns:\n",
    "        List[int]: A list containing the number of rows and columns.\n",
    "    \"\"\"\n",
    "    num_rows, num_columns = players.shape\n",
    "    return [num_rows, num_columns]\n",
    "\n",
    "# Example usage:\n",
    "if __name__ == \"__main__\":\n",
    "    # Create a sample DataFrame (you can replace this with your actual data)\n",
    "    player_data = {\n",
    "        \"PlayerID\": [101, 102, 103],\n",
    "        \"Name\": [\"Alice\", \"Bob\", \"Charlie\"],\n",
    "        \"Score\": [85, 92, 78]\n",
    "    }\n",
    "    players_df = pd.DataFrame(player_data)\n",
    "\n",
    "    # Get the size of the DataFrame\n",
    "    size_list = getDataframeSize(players_df)\n",
    "    print(f\"Number of rows: {size_list[0]}, Number of columns: {size_list[1]}\")"
   ]
  },
  {
   "cell_type": "code",
   "execution_count": null,
   "id": "51ea5f61",
   "metadata": {},
   "outputs": [],
   "source": []
  }
 ],
 "metadata": {
  "kernelspec": {
   "display_name": "Python 3 (ipykernel)",
   "language": "python",
   "name": "python3"
  },
  "language_info": {
   "codemirror_mode": {
    "name": "ipython",
    "version": 3
   },
   "file_extension": ".py",
   "mimetype": "text/x-python",
   "name": "python",
   "nbconvert_exporter": "python",
   "pygments_lexer": "ipython3",
   "version": "3.11.7"
  }
 },
 "nbformat": 4,
 "nbformat_minor": 5
}
