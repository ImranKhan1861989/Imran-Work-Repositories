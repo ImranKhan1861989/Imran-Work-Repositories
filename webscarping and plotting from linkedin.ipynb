{
 "cells": [
  {
   "cell_type": "code",
   "execution_count": 5,
   "id": "db4b54f1",
   "metadata": {},
   "outputs": [
    {
     "ename": "ValueError",
     "evalue": "max() arg is an empty sequence",
     "output_type": "error",
     "traceback": [
      "\u001b[1;31m---------------------------------------------------------------------------\u001b[0m",
      "\u001b[1;31mValueError\u001b[0m                                Traceback (most recent call last)",
      "Cell \u001b[1;32mIn[5], line 30\u001b[0m\n\u001b[0;32m     28\u001b[0m job_listings \u001b[38;5;241m=\u001b[39m my_function()  \u001b[38;5;66;03m# Replace with actual function call\u001b[39;00m\n\u001b[0;32m     29\u001b[0m locations \u001b[38;5;241m=\u001b[39m extract_locations(job_listings)\n\u001b[1;32m---> 30\u001b[0m top_region, num_postings \u001b[38;5;241m=\u001b[39m find_top_region(locations)\n\u001b[0;32m     31\u001b[0m \u001b[38;5;28mprint\u001b[39m(\u001b[38;5;124mf\u001b[39m\u001b[38;5;124m\"\u001b[39m\u001b[38;5;124mThe region with the highest number of job postings for scientists in the USA is \u001b[39m\u001b[38;5;132;01m{\u001b[39;00mtop_region\u001b[38;5;132;01m}\u001b[39;00m\u001b[38;5;124m with \u001b[39m\u001b[38;5;132;01m{\u001b[39;00mnum_postings\u001b[38;5;132;01m}\u001b[39;00m\u001b[38;5;124m postings.\u001b[39m\u001b[38;5;124m\"\u001b[39m)\n\u001b[0;32m     33\u001b[0m \u001b[38;5;66;03m# Create a bar plot\u001b[39;00m\n",
      "Cell \u001b[1;32mIn[5], line 24\u001b[0m, in \u001b[0;36mfind_top_region\u001b[1;34m(locations)\u001b[0m\n\u001b[0;32m     23\u001b[0m \u001b[38;5;28;01mdef\u001b[39;00m \u001b[38;5;21mfind_top_region\u001b[39m(locations):\n\u001b[1;32m---> 24\u001b[0m     top_region \u001b[38;5;241m=\u001b[39m \u001b[38;5;28mmax\u001b[39m(locations, key\u001b[38;5;241m=\u001b[39mlocations\u001b[38;5;241m.\u001b[39mget)\n\u001b[0;32m     25\u001b[0m     \u001b[38;5;28;01mreturn\u001b[39;00m top_region, locations[top_region]\n",
      "\u001b[1;31mValueError\u001b[0m: max() arg is an empty sequence"
     ]
    }
   ],
   "source": []
  }
 ],
 "metadata": {
  "kernelspec": {
   "display_name": "Python 3 (ipykernel)",
   "language": "python",
   "name": "python3"
  },
  "language_info": {
   "codemirror_mode": {
    "name": "ipython",
    "version": 3
   },
   "file_extension": ".py",
   "mimetype": "text/x-python",
   "name": "python",
   "nbconvert_exporter": "python",
   "pygments_lexer": "ipython3",
   "version": "3.11.7"
  }
 },
 "nbformat": 4,
 "nbformat_minor": 5
}
